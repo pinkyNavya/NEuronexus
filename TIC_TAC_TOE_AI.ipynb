{
  "nbformat": 4,
  "nbformat_minor": 0,
  "metadata": {
    "colab": {
      "provenance": []
    },
    "kernelspec": {
      "name": "python3",
      "display_name": "Python 3"
    },
    "language_info": {
      "name": "python"
    }
  },
  "cells": [
    {
      "cell_type": "code",
      "execution_count": 3,
      "metadata": {
        "colab": {
          "base_uri": "https://localhost:8080/"
        },
        "id": "EopGyHqWdVB0",
        "outputId": "0138d97d-3314-44fb-d9da-86d20d6ee614"
      },
      "outputs": [
        {
          "output_type": "stream",
          "name": "stdout",
          "text": [
            "Welcome to Tic-Tac-Toe!\n",
            "                 \n",
            "Enter your move (1-9): 5\n",
            "        X        \n",
            "O       X        \n",
            "Enter your move (1-9): 8\n",
            "O       X     X  \n",
            "O O     X     X  \n",
            "Enter your move (1-9): 7\n",
            "O O     X   X X  \n",
            "O O O   X   X X  \n",
            "AI wins!\n"
          ]
        }
      ],
      "source": [
        "import math\n",
        "import random\n",
        "board = [' ' for _ in range(9)]\n",
        "def check_win(board, player):\n",
        "    win_cases = [[0, 1, 2], [3, 4, 5], [6, 7, 8], [0, 3, 6], [1, 4, 7], [2, 5, 8], [0, 4, 8], [2, 4, 6]]\n",
        "    for case in win_cases:\n",
        "        if board[case[0]] == board[case[1]] == board[case[2]] == player:\n",
        "            return True\n",
        "    return False\n",
        "def check_draw(board):\n",
        "    return ' ' not in board\n",
        "def evaluate(board):\n",
        "    if check_win(board, 'X'):\n",
        "        return -10\n",
        "    elif check_win(board, 'O'):\n",
        "        return 10\n",
        "    elif check_draw(board):\n",
        "        return 0\n",
        "    else:\n",
        "        return None\n",
        "def minimax(board, depth, is_maximizing_player):\n",
        "    eval_board = evaluate(board)\n",
        "    if eval_board is not None:\n",
        "        return eval_board\n",
        "\n",
        "    if is_maximizing_player:\n",
        "        max_eval = -math.inf\n",
        "        for i in range(len(board)):\n",
        "            if board[i] == ' ':\n",
        "                board[i] = 'O'\n",
        "                eval = minimax(board, depth + 1, False)\n",
        "                max_eval = max(max_eval, eval)\n",
        "                board[i] = ' '\n",
        "        return max_eval\n",
        "\n",
        "    else:\n",
        "        min_eval = math.inf\n",
        "        for i in range(len(board)):\n",
        "            if board[i] == ' ':\n",
        "                board[i] = 'X'\n",
        "                eval = minimax(board, depth + 1, True)\n",
        "                min_eval = min(min_eval, eval)\n",
        "                board[i] = ' '\n",
        "        return min_eval\n",
        "def make_move(board, player):\n",
        "    best_move_index = None\n",
        "    best_move_eval = -math.inf\n",
        "    for i in range(len(board)):\n",
        "        if board[i] == ' ':\n",
        "            board[i] = player\n",
        "            eval = minimax(board, 0, False)\n",
        "            board[i] = ' '\n",
        "            if eval > best_move_eval:\n",
        "                best_move_eval = eval\n",
        "                best_move_index = i\n",
        "    board[best_move_index] = player\n",
        "def play_game():\n",
        "    print('Welcome to Tic-Tac-Toe!')\n",
        "    print(' '.join(board))\n",
        "\n",
        "    while not check_win(board, 'X') and not check_win(board, 'O') and not check_draw(board):\n",
        "        human_move = input('Enter your move (1-9): ')\n",
        "        while human_move not in map(str, range(1, 10)) or board[int(human_move) - 1] != ' ':\n",
        "            human_move = input('Invalid move. Enter your move (1-9): ')\n",
        "        human_move = int(human_move) - 1\n",
        "        board[human_move] = 'X'\n",
        "        print(' '.join(board))\n",
        "\n",
        "        if not check_win(board, 'X') and not check_win(board, 'O') and not check_draw(board):\n",
        "            make_move(board, 'O')\n",
        "            print(' '.join(board))\n",
        "\n",
        "    if check_win(board, 'X'):\n",
        "        print('player wins!')\n",
        "    elif check_win(board, 'O'):\n",
        "        print('AI wins!')\n",
        "    else:\n",
        "        print('It\\'s a draw!')\n",
        "\n",
        "play_game()"
      ]
    }
  ]
}